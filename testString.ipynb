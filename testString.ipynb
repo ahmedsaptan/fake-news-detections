{
 "cells": [
  {
   "cell_type": "code",
   "execution_count": 1,
   "metadata": {},
   "outputs": [
    {
     "name": "stderr",
     "output_type": "stream",
     "text": [
      "Using TensorFlow backend.\n"
     ]
    }
   ],
   "source": [
    "import numpy as np\n",
    "import re\n",
    "import string\n",
    "import pandas as pd\n",
    "from gensim.models import Doc2Vec\n",
    "from gensim.models.doc2vec import LabeledSentence\n",
    "from gensim import utils\n",
    "from nltk.corpus import stopwords\n",
    "import numpy as np\n",
    "from keras.datasets import imdb\n",
    "from keras.models import Sequential\n",
    "from keras.layers import Dense\n",
    "from keras.layers import LSTM\n",
    "from keras.layers.embeddings import Embedding\n",
    "from keras.preprocessing import sequence\n",
    "from collections import Counter\n",
    "import os\n",
    "import getEmbeddings2\n",
    "import matplotlib.pyplot as plt\n",
    "import scikitplot.metrics as skplt\n"
   ]
  },
  {
   "cell_type": "code",
   "execution_count": 2,
   "metadata": {},
   "outputs": [],
   "source": [
    "def textClean(text):\n",
    "    text = re.sub(r\"[^A-Za-z0-9^,!.\\/'+-=]\", \" \", text)\n",
    "    text = text.lower().split()\n",
    "    stops = set(stopwords.words(\"english\"))\n",
    "    text = [w for w in text if not w in stops]\n",
    "    text = \" \".join(text)\n",
    "    return (text)\n",
    "\n",
    "\n",
    "def cleanup(text):\n",
    "    text = textClean(text)\n",
    "    text = text.translate(str.maketrans(\"\", \"\", string.punctuation))\n",
    "    return text\n",
    "\n"
   ]
  },
  {
   "cell_type": "code",
   "execution_count": 3,
   "metadata": {},
   "outputs": [],
   "source": [
    "new_test = \"A sequential model which is a linear stack of layers is used. The first layer is an LSTM layer with 300 memory units and it returns sequences. This is done to ensure that the next LSTM layer receives sequences and not just randomly scattered data. A dropout layer is applied after each LSTM layer to avoid overfitting of the model. Finally, we have the last layer as a fully connected layer with a ‘softmax’ activation and neurons equal to the number of unique characters, because we need to output one hot encoded result.\""
   ]
  },
  {
   "cell_type": "code",
   "execution_count": 4,
   "metadata": {},
   "outputs": [
    {
     "data": {
      "text/plain": [
       "'A sequential model which is a linear stack of layers is used. The first layer is an LSTM layer with 300 memory units and it returns sequences. This is done to ensure that the next LSTM layer receives sequences and not just randomly scattered data. A dropout layer is applied after each LSTM layer to avoid overfitting of the model. Finally, we have the last layer as a fully connected layer with a ‘softmax’ activation and neurons equal to the number of unique characters, because we need to output one hot encoded result.'"
      ]
     },
     "execution_count": 4,
     "metadata": {},
     "output_type": "execute_result"
    }
   ],
   "source": [
    "new_test"
   ]
  },
  {
   "cell_type": "code",
   "execution_count": 5,
   "metadata": {},
   "outputs": [],
   "source": [
    "new_test = cleanup(new_test)"
   ]
  },
  {
   "cell_type": "code",
   "execution_count": 6,
   "metadata": {},
   "outputs": [
    {
     "data": {
      "text/plain": [
       "'sequential model linear stack layers used first layer lstm layer 300 memory units returns sequences done ensure next lstm layer receives sequences randomly scattered data dropout layer applied lstm layer avoid overfitting model finally last layer fully connected layer softmax activation neurons equal number unique characters need output one hot encoded result'"
      ]
     },
     "execution_count": 6,
     "metadata": {},
     "output_type": "execute_result"
    }
   ],
   "source": [
    "new_test"
   ]
  },
  {
   "cell_type": "code",
   "execution_count": 8,
   "metadata": {},
   "outputs": [],
   "source": [
    "cnt = Counter()\n",
    "x_train = []\n",
    "x_train.append(new_test.split())\n",
    "for word in x_train[-1]:\n",
    "    cnt[word] += 1"
   ]
  },
  {
   "cell_type": "code",
   "execution_count": 9,
   "metadata": {},
   "outputs": [
    {
     "data": {
      "text/plain": [
       "[['sequential',\n",
       "  'model',\n",
       "  'linear',\n",
       "  'stack',\n",
       "  'layers',\n",
       "  'used',\n",
       "  'first',\n",
       "  'layer',\n",
       "  'lstm',\n",
       "  'layer',\n",
       "  '300',\n",
       "  'memory',\n",
       "  'units',\n",
       "  'returns',\n",
       "  'sequences',\n",
       "  'done',\n",
       "  'ensure',\n",
       "  'next',\n",
       "  'lstm',\n",
       "  'layer',\n",
       "  'receives',\n",
       "  'sequences',\n",
       "  'randomly',\n",
       "  'scattered',\n",
       "  'data',\n",
       "  'dropout',\n",
       "  'layer',\n",
       "  'applied',\n",
       "  'lstm',\n",
       "  'layer',\n",
       "  'avoid',\n",
       "  'overfitting',\n",
       "  'model',\n",
       "  'finally',\n",
       "  'last',\n",
       "  'layer',\n",
       "  'fully',\n",
       "  'connected',\n",
       "  'layer',\n",
       "  'softmax',\n",
       "  'activation',\n",
       "  'neurons',\n",
       "  'equal',\n",
       "  'number',\n",
       "  'unique',\n",
       "  'characters',\n",
       "  'need',\n",
       "  'output',\n",
       "  'one',\n",
       "  'hot',\n",
       "  'encoded',\n",
       "  'result']]"
      ]
     },
     "execution_count": 9,
     "metadata": {},
     "output_type": "execute_result"
    }
   ],
   "source": [
    "x_train"
   ]
  },
  {
   "cell_type": "code",
   "execution_count": 10,
   "metadata": {},
   "outputs": [
    {
     "data": {
      "text/plain": [
       "Counter({'sequential': 1,\n",
       "         'model': 2,\n",
       "         'linear': 1,\n",
       "         'stack': 1,\n",
       "         'layers': 1,\n",
       "         'used': 1,\n",
       "         'first': 1,\n",
       "         'layer': 7,\n",
       "         'lstm': 3,\n",
       "         '300': 1,\n",
       "         'memory': 1,\n",
       "         'units': 1,\n",
       "         'returns': 1,\n",
       "         'sequences': 2,\n",
       "         'done': 1,\n",
       "         'ensure': 1,\n",
       "         'next': 1,\n",
       "         'receives': 1,\n",
       "         'randomly': 1,\n",
       "         'scattered': 1,\n",
       "         'data': 1,\n",
       "         'dropout': 1,\n",
       "         'applied': 1,\n",
       "         'avoid': 1,\n",
       "         'overfitting': 1,\n",
       "         'finally': 1,\n",
       "         'last': 1,\n",
       "         'fully': 1,\n",
       "         'connected': 1,\n",
       "         'softmax': 1,\n",
       "         'activation': 1,\n",
       "         'neurons': 1,\n",
       "         'equal': 1,\n",
       "         'number': 1,\n",
       "         'unique': 1,\n",
       "         'characters': 1,\n",
       "         'need': 1,\n",
       "         'output': 1,\n",
       "         'one': 1,\n",
       "         'hot': 1,\n",
       "         'encoded': 1,\n",
       "         'result': 1})"
      ]
     },
     "execution_count": 10,
     "metadata": {},
     "output_type": "execute_result"
    }
   ],
   "source": [
    "cnt"
   ]
  },
  {
   "cell_type": "code",
   "execution_count": 12,
   "metadata": {},
   "outputs": [],
   "source": [
    "top_words = 5000\n",
    "epoch_num = 5\n",
    "batch_size = 64\n"
   ]
  },
  {
   "cell_type": "code",
   "execution_count": 13,
   "metadata": {},
   "outputs": [],
   "source": [
    "most_common = cnt.most_common(top_words + 1)\n"
   ]
  },
  {
   "cell_type": "code",
   "execution_count": 14,
   "metadata": {},
   "outputs": [
    {
     "data": {
      "text/plain": [
       "[('layer', 7),\n",
       " ('lstm', 3),\n",
       " ('model', 2),\n",
       " ('sequences', 2),\n",
       " ('sequential', 1),\n",
       " ('linear', 1),\n",
       " ('stack', 1),\n",
       " ('layers', 1),\n",
       " ('used', 1),\n",
       " ('first', 1),\n",
       " ('300', 1),\n",
       " ('memory', 1),\n",
       " ('units', 1),\n",
       " ('returns', 1),\n",
       " ('done', 1),\n",
       " ('ensure', 1),\n",
       " ('next', 1),\n",
       " ('receives', 1),\n",
       " ('randomly', 1),\n",
       " ('scattered', 1),\n",
       " ('data', 1),\n",
       " ('dropout', 1),\n",
       " ('applied', 1),\n",
       " ('avoid', 1),\n",
       " ('overfitting', 1),\n",
       " ('finally', 1),\n",
       " ('last', 1),\n",
       " ('fully', 1),\n",
       " ('connected', 1),\n",
       " ('softmax', 1),\n",
       " ('activation', 1),\n",
       " ('neurons', 1),\n",
       " ('equal', 1),\n",
       " ('number', 1),\n",
       " ('unique', 1),\n",
       " ('characters', 1),\n",
       " ('need', 1),\n",
       " ('output', 1),\n",
       " ('one', 1),\n",
       " ('hot', 1),\n",
       " ('encoded', 1),\n",
       " ('result', 1)]"
      ]
     },
     "execution_count": 14,
     "metadata": {},
     "output_type": "execute_result"
    }
   ],
   "source": [
    "most_common"
   ]
  },
  {
   "cell_type": "code",
   "execution_count": 15,
   "metadata": {},
   "outputs": [],
   "source": [
    "word_bank = {}\n",
    "id_num = 1\n",
    "for word, freq in most_common:\n",
    "    word_bank[word] = id_num\n",
    "    id_num += 1\n"
   ]
  },
  {
   "cell_type": "code",
   "execution_count": 16,
   "metadata": {},
   "outputs": [
    {
     "data": {
      "text/plain": [
       "{'layer': 1,\n",
       " 'lstm': 2,\n",
       " 'model': 3,\n",
       " 'sequences': 4,\n",
       " 'sequential': 5,\n",
       " 'linear': 6,\n",
       " 'stack': 7,\n",
       " 'layers': 8,\n",
       " 'used': 9,\n",
       " 'first': 10,\n",
       " '300': 11,\n",
       " 'memory': 12,\n",
       " 'units': 13,\n",
       " 'returns': 14,\n",
       " 'done': 15,\n",
       " 'ensure': 16,\n",
       " 'next': 17,\n",
       " 'receives': 18,\n",
       " 'randomly': 19,\n",
       " 'scattered': 20,\n",
       " 'data': 21,\n",
       " 'dropout': 22,\n",
       " 'applied': 23,\n",
       " 'avoid': 24,\n",
       " 'overfitting': 25,\n",
       " 'finally': 26,\n",
       " 'last': 27,\n",
       " 'fully': 28,\n",
       " 'connected': 29,\n",
       " 'softmax': 30,\n",
       " 'activation': 31,\n",
       " 'neurons': 32,\n",
       " 'equal': 33,\n",
       " 'number': 34,\n",
       " 'unique': 35,\n",
       " 'characters': 36,\n",
       " 'need': 37,\n",
       " 'output': 38,\n",
       " 'one': 39,\n",
       " 'hot': 40,\n",
       " 'encoded': 41,\n",
       " 'result': 42}"
      ]
     },
     "execution_count": 16,
     "metadata": {},
     "output_type": "execute_result"
    }
   ],
   "source": [
    "word_bank"
   ]
  },
  {
   "cell_type": "code",
   "execution_count": 17,
   "metadata": {},
   "outputs": [],
   "source": [
    "for news in x_train:\n",
    "    i = 0\n",
    "    while i < len(news):\n",
    "        if news[i] in word_bank:\n",
    "            news[i] = word_bank[news[i]]\n",
    "            i += 1\n",
    "        else:\n",
    "            del news[i]"
   ]
  },
  {
   "cell_type": "code",
   "execution_count": 18,
   "metadata": {},
   "outputs": [
    {
     "data": {
      "text/plain": [
       "[[5,\n",
       "  3,\n",
       "  6,\n",
       "  7,\n",
       "  8,\n",
       "  9,\n",
       "  10,\n",
       "  1,\n",
       "  2,\n",
       "  1,\n",
       "  11,\n",
       "  12,\n",
       "  13,\n",
       "  14,\n",
       "  4,\n",
       "  15,\n",
       "  16,\n",
       "  17,\n",
       "  2,\n",
       "  1,\n",
       "  18,\n",
       "  4,\n",
       "  19,\n",
       "  20,\n",
       "  21,\n",
       "  22,\n",
       "  1,\n",
       "  23,\n",
       "  2,\n",
       "  1,\n",
       "  24,\n",
       "  25,\n",
       "  3,\n",
       "  26,\n",
       "  27,\n",
       "  1,\n",
       "  28,\n",
       "  29,\n",
       "  1,\n",
       "  30,\n",
       "  31,\n",
       "  32,\n",
       "  33,\n",
       "  34,\n",
       "  35,\n",
       "  36,\n",
       "  37,\n",
       "  38,\n",
       "  39,\n",
       "  40,\n",
       "  41,\n",
       "  42]]"
      ]
     },
     "execution_count": 18,
     "metadata": {},
     "output_type": "execute_result"
    }
   ],
   "source": [
    "x_train"
   ]
  },
  {
   "cell_type": "code",
   "execution_count": 19,
   "metadata": {},
   "outputs": [],
   "source": [
    "i = 0\n",
    "while i < len(x_train):\n",
    "    if len(x_train[i]) > 10:\n",
    "        i += 1\n",
    "    else:\n",
    "        del x_train[i]"
   ]
  },
  {
   "cell_type": "code",
   "execution_count": 20,
   "metadata": {},
   "outputs": [
    {
     "data": {
      "text/plain": [
       "[[5,\n",
       "  3,\n",
       "  6,\n",
       "  7,\n",
       "  8,\n",
       "  9,\n",
       "  10,\n",
       "  1,\n",
       "  2,\n",
       "  1,\n",
       "  11,\n",
       "  12,\n",
       "  13,\n",
       "  14,\n",
       "  4,\n",
       "  15,\n",
       "  16,\n",
       "  17,\n",
       "  2,\n",
       "  1,\n",
       "  18,\n",
       "  4,\n",
       "  19,\n",
       "  20,\n",
       "  21,\n",
       "  22,\n",
       "  1,\n",
       "  23,\n",
       "  2,\n",
       "  1,\n",
       "  24,\n",
       "  25,\n",
       "  3,\n",
       "  26,\n",
       "  27,\n",
       "  1,\n",
       "  28,\n",
       "  29,\n",
       "  1,\n",
       "  30,\n",
       "  31,\n",
       "  32,\n",
       "  33,\n",
       "  34,\n",
       "  35,\n",
       "  36,\n",
       "  37,\n",
       "  38,\n",
       "  39,\n",
       "  40,\n",
       "  41,\n",
       "  42]]"
      ]
     },
     "execution_count": 20,
     "metadata": {},
     "output_type": "execute_result"
    }
   ],
   "source": [
    "x_train"
   ]
  },
  {
   "cell_type": "code",
   "execution_count": 21,
   "metadata": {},
   "outputs": [],
   "source": [
    "max_review_length = 500\n",
    "X_train = sequence.pad_sequences(x_train, maxlen=max_review_length)"
   ]
  },
  {
   "cell_type": "code",
   "execution_count": 22,
   "metadata": {},
   "outputs": [
    {
     "data": {
      "text/plain": [
       "array([[ 0,  0,  0,  0,  0,  0,  0,  0,  0,  0,  0,  0,  0,  0,  0,  0,\n",
       "         0,  0,  0,  0,  0,  0,  0,  0,  0,  0,  0,  0,  0,  0,  0,  0,\n",
       "         0,  0,  0,  0,  0,  0,  0,  0,  0,  0,  0,  0,  0,  0,  0,  0,\n",
       "         0,  0,  0,  0,  0,  0,  0,  0,  0,  0,  0,  0,  0,  0,  0,  0,\n",
       "         0,  0,  0,  0,  0,  0,  0,  0,  0,  0,  0,  0,  0,  0,  0,  0,\n",
       "         0,  0,  0,  0,  0,  0,  0,  0,  0,  0,  0,  0,  0,  0,  0,  0,\n",
       "         0,  0,  0,  0,  0,  0,  0,  0,  0,  0,  0,  0,  0,  0,  0,  0,\n",
       "         0,  0,  0,  0,  0,  0,  0,  0,  0,  0,  0,  0,  0,  0,  0,  0,\n",
       "         0,  0,  0,  0,  0,  0,  0,  0,  0,  0,  0,  0,  0,  0,  0,  0,\n",
       "         0,  0,  0,  0,  0,  0,  0,  0,  0,  0,  0,  0,  0,  0,  0,  0,\n",
       "         0,  0,  0,  0,  0,  0,  0,  0,  0,  0,  0,  0,  0,  0,  0,  0,\n",
       "         0,  0,  0,  0,  0,  0,  0,  0,  0,  0,  0,  0,  0,  0,  0,  0,\n",
       "         0,  0,  0,  0,  0,  0,  0,  0,  0,  0,  0,  0,  0,  0,  0,  0,\n",
       "         0,  0,  0,  0,  0,  0,  0,  0,  0,  0,  0,  0,  0,  0,  0,  0,\n",
       "         0,  0,  0,  0,  0,  0,  0,  0,  0,  0,  0,  0,  0,  0,  0,  0,\n",
       "         0,  0,  0,  0,  0,  0,  0,  0,  0,  0,  0,  0,  0,  0,  0,  0,\n",
       "         0,  0,  0,  0,  0,  0,  0,  0,  0,  0,  0,  0,  0,  0,  0,  0,\n",
       "         0,  0,  0,  0,  0,  0,  0,  0,  0,  0,  0,  0,  0,  0,  0,  0,\n",
       "         0,  0,  0,  0,  0,  0,  0,  0,  0,  0,  0,  0,  0,  0,  0,  0,\n",
       "         0,  0,  0,  0,  0,  0,  0,  0,  0,  0,  0,  0,  0,  0,  0,  0,\n",
       "         0,  0,  0,  0,  0,  0,  0,  0,  0,  0,  0,  0,  0,  0,  0,  0,\n",
       "         0,  0,  0,  0,  0,  0,  0,  0,  0,  0,  0,  0,  0,  0,  0,  0,\n",
       "         0,  0,  0,  0,  0,  0,  0,  0,  0,  0,  0,  0,  0,  0,  0,  0,\n",
       "         0,  0,  0,  0,  0,  0,  0,  0,  0,  0,  0,  0,  0,  0,  0,  0,\n",
       "         0,  0,  0,  0,  0,  0,  0,  0,  0,  0,  0,  0,  0,  0,  0,  0,\n",
       "         0,  0,  0,  0,  0,  0,  0,  0,  0,  0,  0,  0,  0,  0,  0,  0,\n",
       "         0,  0,  0,  0,  0,  0,  0,  0,  0,  0,  0,  0,  0,  0,  0,  0,\n",
       "         0,  0,  0,  0,  0,  0,  0,  0,  0,  0,  0,  0,  0,  0,  0,  0,\n",
       "         5,  3,  6,  7,  8,  9, 10,  1,  2,  1, 11, 12, 13, 14,  4, 15,\n",
       "        16, 17,  2,  1, 18,  4, 19, 20, 21, 22,  1, 23,  2,  1, 24, 25,\n",
       "         3, 26, 27,  1, 28, 29,  1, 30, 31, 32, 33, 34, 35, 36, 37, 38,\n",
       "        39, 40, 41, 42]], dtype=int32)"
      ]
     },
     "execution_count": 22,
     "metadata": {},
     "output_type": "execute_result"
    }
   ],
   "source": [
    "X_train"
   ]
  },
  {
   "cell_type": "code",
   "execution_count": 23,
   "metadata": {},
   "outputs": [],
   "source": [
    "from keras.models import load_model\n"
   ]
  },
  {
   "cell_type": "code",
   "execution_count": 24,
   "metadata": {},
   "outputs": [
    {
     "name": "stdout",
     "output_type": "stream",
     "text": [
      " \u001b[0m\u001b[01;34mdatasets\u001b[0m/                  naive-bayes.py        testString.ipynb\r\n",
      " ExplorData.ipynb           neural-net-keras.py   \u001b[01;34mwebapp\u001b[0m/\r\n",
      "'Fake News Detection.pdf'   neural-net-tf.py      xte.npy\r\n",
      " getEmbeddings2.py          \u001b[01;34mpapers\u001b[0m/               xte_shuffled.npy\r\n",
      " getEmbeddings.py           Presentation.pptx     xtr.npy\r\n",
      " \u001b[01;34mimages\u001b[0m/                   'Project Report.pdf'   xtr_shuffled.npy\r\n",
      "\u001b[01;34m'Keras Model'\u001b[0m/              \u001b[01;34m__pycache__\u001b[0m/          yte.npy\r\n",
      " LSTM.ipynb                 README.md             yte_shuffled.npy\r\n",
      "\u001b[01;34m'LSTM Model'\u001b[0m/               svm.py                ytr.npy\r\n",
      " LSTM.py                    testSomeData.py       ytr_shuffled.npy\r\n"
     ]
    }
   ],
   "source": [
    "%ls"
   ]
  },
  {
   "cell_type": "code",
   "execution_count": 25,
   "metadata": {},
   "outputs": [
    {
     "name": "stderr",
     "output_type": "stream",
     "text": [
      "/home/swd/anaconda3/envs/my_env/lib/python3.7/site-packages/tensorflow_core/python/framework/indexed_slices.py:424: UserWarning: Converting sparse IndexedSlices to a dense Tensor of unknown shape. This may consume a large amount of memory.\n",
      "  \"Converting sparse IndexedSlices to a dense Tensor of unknown shape. \"\n"
     ]
    }
   ],
   "source": [
    "model = load_model('./LSTM Model/model.h5')"
   ]
  },
  {
   "cell_type": "code",
   "execution_count": 26,
   "metadata": {},
   "outputs": [
    {
     "name": "stdout",
     "output_type": "stream",
     "text": [
      "Model: \"sequential_1\"\n",
      "_________________________________________________________________\n",
      "Layer (type)                 Output Shape              Param #   \n",
      "=================================================================\n",
      "embedding_1 (Embedding)      (None, 500, 32)           160064    \n",
      "_________________________________________________________________\n",
      "lstm_1 (LSTM)                (None, 100)               53200     \n",
      "_________________________________________________________________\n",
      "dense_1 (Dense)              (None, 1)                 101       \n",
      "=================================================================\n",
      "Total params: 213,365\n",
      "Trainable params: 213,365\n",
      "Non-trainable params: 0\n",
      "_________________________________________________________________\n",
      "None\n"
     ]
    }
   ],
   "source": [
    "print(model.summary())\n"
   ]
  },
  {
   "cell_type": "code",
   "execution_count": 27,
   "metadata": {},
   "outputs": [],
   "source": [
    "y_pred = model.predict_classes(X_train)\n"
   ]
  },
  {
   "cell_type": "code",
   "execution_count": 28,
   "metadata": {},
   "outputs": [
    {
     "data": {
      "text/plain": [
       "array([[0]], dtype=int32)"
      ]
     },
     "execution_count": 28,
     "metadata": {},
     "output_type": "execute_result"
    }
   ],
   "source": [
    "y_pred"
   ]
  },
  {
   "cell_type": "code",
   "execution_count": 30,
   "metadata": {},
   "outputs": [
    {
     "data": {
      "text/plain": [
       "0"
      ]
     },
     "execution_count": 30,
     "metadata": {},
     "output_type": "execute_result"
    }
   ],
   "source": [
    "y_pred[0][0]"
   ]
  },
  {
   "cell_type": "code",
   "execution_count": null,
   "metadata": {},
   "outputs": [],
   "source": []
  }
 ],
 "metadata": {
  "kernelspec": {
   "display_name": "Python 3",
   "language": "python",
   "name": "python3"
  },
  "language_info": {
   "codemirror_mode": {
    "name": "ipython",
    "version": 3
   },
   "file_extension": ".py",
   "mimetype": "text/x-python",
   "name": "python",
   "nbconvert_exporter": "python",
   "pygments_lexer": "ipython3",
   "version": "3.7.4"
  }
 },
 "nbformat": 4,
 "nbformat_minor": 4
}
